{
 "cells": [
  {
   "cell_type": "markdown",
   "metadata": {},
   "source": [
    "# Usage\n",
    "put this file into https://github.com/clovaai/stargan-v2 to use its evaluation functions"
   ]
  },
  {
   "cell_type": "code",
   "execution_count": 1,
   "metadata": {},
   "outputs": [],
   "source": [
    "import os"
   ]
  },
  {
   "cell_type": "code",
   "execution_count": 2,
   "metadata": {},
   "outputs": [],
   "source": [
    "from metrics.fid import calculate_fid_given_paths, InceptionV3, frechet_distance\n",
    "from metrics.lpips import calculate_lpips_given_images\n",
    "from core.data_loader import get_eval_loader\n",
    "from core import utils\n",
    "from collections import OrderedDict\n",
    "import torch\n",
    "from tqdm import tqdm\n",
    "import numpy as np\n",
    "import sys \n",
    "import torchvision.transforms as transforms\n",
    "import matplotlib.pyplot as plt\n",
    "from PIL import Image\n",
    "import shutil"
   ]
  },
  {
   "cell_type": "code",
   "execution_count": null,
   "metadata": {},
   "outputs": [],
   "source": [
    "def load_image(filename):\n",
    "    transform = transforms.Compose([\n",
    "    transforms.ToTensor(),\n",
    "    transforms.Normalize(mean=[0.5, 0.5, 0.5],std=[0.5,0.5,0.5]),\n",
    "    ])\n",
    "    \n",
    "    img = Image.open(filename)\n",
    "    img = transform(img)\n",
    "    return img.unsqueeze(dim=0)   "
   ]
  },
  {
   "cell_type": "code",
   "execution_count": 3,
   "metadata": {},
   "outputs": [],
   "source": [
    "@torch.no_grad()\n",
    "def calculate_fid_given_paths(paths, img_size=256, batch_size=50, real_loader=None, real_mu=None, real_cov=None):\n",
    "    print('Calculating FID given paths %s and %s...' % (paths[0], paths[1]))\n",
    "    device = torch.device('cuda' if torch.cuda.is_available() else 'cpu')\n",
    "    inception = InceptionV3().eval().to(device)\n",
    "    loaders = [get_eval_loader(path, img_size, batch_size) for path in paths]\n",
    "    \n",
    "    if real_loader is None:\n",
    "        mu, cov = [], []\n",
    "        for loader in loaders:\n",
    "            actvs = []\n",
    "            for x in tqdm(loader, total=len(loader)):\n",
    "                actv = inception(x.to(device))\n",
    "                actvs.append(actv)\n",
    "            actvs = torch.cat(actvs, dim=0).cpu().detach().numpy()\n",
    "            mu.append(np.mean(actvs, axis=0))\n",
    "            cov.append(np.cov(actvs, rowvar=False))\n",
    "        real_loader = loaders[0]\n",
    "        real_mu = mu[0]\n",
    "        real_cov = cov[0]\n",
    "    else:\n",
    "        mu, cov = [real_mu], [real_cov]\n",
    "        loader = loaders[1]\n",
    "        actvs = []\n",
    "        for x in tqdm(loader, total=len(loader)):\n",
    "            actv = inception(x.to(device))\n",
    "            actvs.append(actv)\n",
    "        actvs = torch.cat(actvs, dim=0).cpu().detach().numpy()\n",
    "        mu.append(np.mean(actvs, axis=0))\n",
    "        cov.append(np.cov(actvs, rowvar=False))        \n",
    "    fid_value = frechet_distance(mu[0], cov[0], mu[1], cov[1])\n",
    "    return fid_value, real_loader, real_mu, real_cov"
   ]
  },
  {
   "cell_type": "code",
   "execution_count": 4,
   "metadata": {},
   "outputs": [],
   "source": [
    "def calculate_fid_for_all_tasks(path_real, path_fakes, modes, task, val_batch_size=50, save_path='./'):\n",
    "    print('Calculating FID for all tasks...')\n",
    "    fid_values = OrderedDict()\n",
    "    real_loader, real_mu, real_cov = None, None, None\n",
    "    for ii, path_fake in enumerate(path_fakes):\n",
    "        print('Calculating FID for %s...' % (task+modes[ii]))\n",
    "        fid_value, real_loader, real_mu, real_cov = calculate_fid_given_paths(\n",
    "            paths=[path_real, path_fake+task],\n",
    "            img_size=256,\n",
    "            batch_size=val_batch_size, real_loader = real_loader, real_mu = real_mu, real_cov = real_cov)\n",
    "        fid_values['FID_%s' % (task+modes[ii])] = fid_value\n",
    "        print('FID for %s is %.3f' % (task+modes[ii], fid_value))\n",
    "    # report FID values\n",
    "    filename = os.path.join(save_path, 'FID_%s.json' % (task))\n",
    "    utils.save_json(fid_values, filename)"
   ]
  },
  {
   "cell_type": "markdown",
   "metadata": {},
   "source": [
    "# FID"
   ]
  },
  {
   "cell_type": "code",
   "execution_count": 5,
   "metadata": {},
   "outputs": [],
   "source": [
    "tasks = ['male2female','female2male','dog2cat','cat2dog','cat2face','face2cat','dog2bird','bird2dog','car2bird','bird2car']\n",
    "path_reals = ['../../data/celeba_hq/train/female/',\n",
    "              '../../data/celeba_hq/train/male/',\n",
    "              '../../data/afhq/images512x512/train/cat/',\n",
    "              '../../data/afhq/images512x512/train/dog/',\n",
    "              '../../data/linkdataset_for_starganv2/face2cat/train/1001_face/',\n",
    "              '../../data/afhq/images512x512/train/cat/',\n",
    "              '../../data/linkdataset_for_starganv2/birds/train/',\n",
    "              '../../data/linkdataset_for_starganv2/dogs/train/',\n",
    "              '../../data/linkdataset_for_starganv2/birds/train/',\n",
    "              '../../data/linkdataset_for_starganv2/cars/train/']\n",
    "path_fakes = ['../I2I/comparison/GP-UNIT/','../I2I/comparison/munit/','../I2I/comparison/stargan/',\n",
    "              '../I2I/comparison/cocofunit/','../I2I/comparison/travelgan/']\n",
    "modes = ['_GPUNIT','_MUNIT','_StarGAN2','_COCOFUNIT','_TraVeLGAN']"
   ]
  },
  {
   "cell_type": "markdown",
   "metadata": {},
   "source": [
    "### folder structure:\n",
    "- GP-UNIT/bird2car/\n",
    "    - 0000_0.jpg - 0000_9.jpg    # results of test image #1 on 10 random styles\n",
    "    - 0001_0.jpg - 0001_9.jpg\n",
    "    - ...\n",
    "    - 0199_0.jpg - 0199_9.jpg\n",
    "- GP-UNIT/car2bird/\n",
    "    - 0000_0.jpg - 0000_9.jpg   \n",
    "    - 0001_0.jpg - 0001_9.jpg\n",
    "    - ...\n",
    "    - 0199_0.jpg - 0199_9.jpg  \n",
    "- ...\n",
    "- GP-UNIT/male2female/\n",
    "    - 0000_0.jpg - 0000_9.jpg    \n",
    "    - 0001_0.jpg - 0001_9.jpg\n",
    "    - ...\n",
    "    - 0999_0.jpg - 0999_9.jpg  "
   ]
  },
  {
   "cell_type": "code",
   "execution_count": 6,
   "metadata": {
    "scrolled": true
   },
   "outputs": [
    {
     "name": "stdout",
     "output_type": "stream",
     "text": [
      "==================================================\n",
      "male2female\n",
      "_GPUNIT: 10000, 0000_0.jpg\n",
      "_MUNIT: 10000, 0000_0.jpg\n",
      "_StarGAN2: 10000, 0000_0.jpg\n",
      "_COCOFUNIT: 10000, 0000_0.jpg\n",
      "_TraVeLGAN: 1000, 0000_0.jpg\n",
      "==================================================\n",
      "female2male\n",
      "_GPUNIT: 10000, 0000_0.jpg\n",
      "_MUNIT: 10000, 0000_0.jpg\n",
      "_StarGAN2: 10000, 0000_0.jpg\n",
      "_COCOFUNIT: 10000, 0000_0.jpg\n",
      "_TraVeLGAN: 1000, 0000_0.jpg\n",
      "==================================================\n",
      "dog2cat\n",
      "_GPUNIT: 5000, 0000_0.jpg\n",
      "_MUNIT: 5000, 0000_0.jpg\n",
      "_StarGAN2: 5000, 0000_0.jpg\n",
      "_COCOFUNIT: 5000, 0000_0.jpg\n",
      "_TraVeLGAN: 0500, 0000_0.jpg\n",
      "==================================================\n",
      "cat2dog\n",
      "_GPUNIT: 5000, 0000_0.jpg\n",
      "_MUNIT: 5000, 0000_0.jpg\n",
      "_StarGAN2: 5000, 0000_0.jpg\n",
      "_COCOFUNIT: 5000, 0000_0.jpg\n",
      "_TraVeLGAN: 0500, 0000_0.jpg\n",
      "==================================================\n",
      "cat2face\n",
      "_GPUNIT: 5000, 0000_0.jpg\n",
      "_MUNIT: 5000, 0000_0.jpg\n",
      "_StarGAN2: 5000, 0000_0.jpg\n",
      "_COCOFUNIT: 5000, 0000_0.jpg\n",
      "_TraVeLGAN: 0500, 0000_0.jpg\n",
      "==================================================\n",
      "face2cat\n",
      "_GPUNIT: 10000, 0000_0.jpg\n",
      "_MUNIT: 10000, 0000_0.jpg\n",
      "_StarGAN2: 10000, 0000_0.jpg\n",
      "_COCOFUNIT: 10000, 0000_0.jpg\n",
      "_TraVeLGAN: 1000, 0000_0.jpg\n",
      "==================================================\n",
      "dog2bird\n",
      "_GPUNIT: 2000, 0000_0.jpg\n",
      "_MUNIT: 2000, 0000_0.jpg\n",
      "_StarGAN2: 2000, 0000_0.jpg\n",
      "_COCOFUNIT: 2000, 0000_0.jpg\n",
      "_TraVeLGAN: 0200, 0000_0.jpg\n",
      "==================================================\n",
      "bird2dog\n",
      "_GPUNIT: 2000, 0000_0.jpg\n",
      "_MUNIT: 2000, 0000_0.jpg\n",
      "_StarGAN2: 2000, 0000_0.jpg\n",
      "_COCOFUNIT: 2000, 0000_0.jpg\n",
      "_TraVeLGAN: 0200, 0000_0.jpg\n",
      "==================================================\n",
      "car2bird\n",
      "_GPUNIT: 2000, 0000_0.jpg\n",
      "_MUNIT: 2000, 0000_0.jpg\n",
      "_StarGAN2: 2000, 0000_0.jpg\n",
      "_COCOFUNIT: 2000, 0000_0.jpg\n",
      "_TraVeLGAN: 0200, 0000_0.jpg\n",
      "==================================================\n",
      "bird2car\n",
      "_GPUNIT: 2000, 0000_0.jpg\n",
      "_MUNIT: 2000, 0000_0.jpg\n",
      "_StarGAN2: 2000, 0000_0.jpg\n",
      "_COCOFUNIT: 2000, 0000_0.jpg\n",
      "_TraVeLGAN: 0200, 0000_0.jpg\n"
     ]
    }
   ],
   "source": [
    "for task in tasks:\n",
    "    print('='*50)\n",
    "    print(task)\n",
    "    for i, path in enumerate(path_fakes):\n",
    "        files = os.listdir(path+task)\n",
    "        files.sort()\n",
    "        print('%s: %04d, %s'%(modes[i], len(files), files[0]))"
   ]
  },
  {
   "cell_type": "code",
   "execution_count": 46,
   "metadata": {},
   "outputs": [],
   "source": [
    "tasks = ['male2female_Waug','female2male_Waug','dog2cat_Waug','cat2dog_Waug','cat2face_Waug','face2cat_Waug',\n",
    "         'dog2bird','bird2dog','car2bird','bird2car']\n",
    "path_reals = ['../../data/celeba_hq/train/female/',\n",
    "              '../../data/celeba_hq/train/male/',\n",
    "              '../../data/afhq/images512x512/train/cat/',\n",
    "              '../../data/afhq/images512x512/train/dog/',\n",
    "              '../../data/linkdataset_for_starganv2/face2cat/train/1001_face/',\n",
    "              '../../data/afhq/images512x512/train/cat/',\n",
    "              '../../data/linkdataset_for_starganv2/birds/train/',\n",
    "              '../../data/linkdataset_for_starganv2/dogs/train/',\n",
    "              '../../data/linkdataset_for_starganv2/birds/train/',\n",
    "              '../../data/linkdataset_for_starganv2/cars/train/']\n",
    "path_fakes = ['../I2I/comparison/GP-UNIT/']\n",
    "modes = ['_GPUNIT']"
   ]
  },
  {
   "cell_type": "code",
   "execution_count": 47,
   "metadata": {
    "scrolled": true
   },
   "outputs": [
    {
     "name": "stdout",
     "output_type": "stream",
     "text": [
      "Calculating FID for all tasks...\n",
      "Calculating FID for male2female_Waug_GPUNIT...\n",
      "Calculating FID given paths ../../data/celeba_hq/train/female/ and ../I2I/comparison/GP-UNIT/male2female_Waug...\n",
      "Preparing DataLoader for the evaluation phase...\n",
      "Preparing DataLoader for the evaluation phase...\n"
     ]
    },
    {
     "name": "stderr",
     "output_type": "stream",
     "text": [
      "100%|██████████| 359/359 [02:38<00:00,  2.26it/s]\n",
      "100%|██████████| 200/200 [00:29<00:00,  6.70it/s]\n"
     ]
    },
    {
     "name": "stdout",
     "output_type": "stream",
     "text": [
      "FID for male2female_Waug_GPUNIT is 12.602\n",
      "Calculating FID for all tasks...\n",
      "Calculating FID for female2male_Waug_GPUNIT...\n",
      "Calculating FID given paths ../../data/celeba_hq/train/male/ and ../I2I/comparison/GP-UNIT/female2male_Waug...\n",
      "Preparing DataLoader for the evaluation phase...\n",
      "Preparing DataLoader for the evaluation phase...\n"
     ]
    },
    {
     "name": "stderr",
     "output_type": "stream",
     "text": [
      "100%|██████████| 202/202 [01:28<00:00,  2.28it/s]\n",
      "100%|██████████| 200/200 [00:29<00:00,  6.78it/s]\n"
     ]
    },
    {
     "name": "stdout",
     "output_type": "stream",
     "text": [
      "FID for female2male_Waug_GPUNIT is 16.664\n",
      "Calculating FID for all tasks...\n",
      "Calculating FID for dog2cat_Waug_GPUNIT...\n",
      "Calculating FID given paths ../../data/afhq/images512x512/train/cat/ and ../I2I/comparison/GP-UNIT/dog2cat_Waug...\n",
      "Preparing DataLoader for the evaluation phase...\n",
      "Preparing DataLoader for the evaluation phase...\n"
     ]
    },
    {
     "name": "stderr",
     "output_type": "stream",
     "text": [
      "100%|██████████| 104/104 [00:23<00:00,  4.47it/s]\n",
      "100%|██████████| 100/100 [00:15<00:00,  6.63it/s]\n"
     ]
    },
    {
     "name": "stdout",
     "output_type": "stream",
     "text": [
      "FID for dog2cat_Waug_GPUNIT is 8.504\n",
      "Calculating FID for all tasks...\n",
      "Calculating FID for cat2dog_Waug_GPUNIT...\n",
      "Calculating FID given paths ../../data/afhq/images512x512/train/dog/ and ../I2I/comparison/GP-UNIT/cat2dog_Waug...\n",
      "Preparing DataLoader for the evaluation phase...\n",
      "Preparing DataLoader for the evaluation phase...\n"
     ]
    },
    {
     "name": "stderr",
     "output_type": "stream",
     "text": [
      "100%|██████████| 95/95 [00:21<00:00,  4.48it/s]\n",
      "100%|██████████| 100/100 [00:15<00:00,  6.52it/s]\n"
     ]
    },
    {
     "name": "stdout",
     "output_type": "stream",
     "text": [
      "FID for cat2dog_Waug_GPUNIT is 22.077\n",
      "Calculating FID for all tasks...\n",
      "Calculating FID for cat2face_Waug_GPUNIT...\n",
      "Calculating FID given paths ../../data/linkdataset_for_starganv2/face2cat/train/1001_face/ and ../I2I/comparison/GP-UNIT/cat2face_Waug...\n",
      "Preparing DataLoader for the evaluation phase...\n"
     ]
    },
    {
     "name": "stderr",
     "output_type": "stream",
     "text": [
      "  0%|          | 0/580 [00:00<?, ?it/s]"
     ]
    },
    {
     "name": "stdout",
     "output_type": "stream",
     "text": [
      "Preparing DataLoader for the evaluation phase...\n"
     ]
    },
    {
     "name": "stderr",
     "output_type": "stream",
     "text": [
      "100%|██████████| 580/580 [01:30<00:00,  6.39it/s]\n",
      "100%|██████████| 100/100 [00:14<00:00,  6.67it/s]\n"
     ]
    },
    {
     "name": "stdout",
     "output_type": "stream",
     "text": [
      "FID for cat2face_Waug_GPUNIT is 16.878\n",
      "Calculating FID for all tasks...\n",
      "Calculating FID for face2cat_Waug_GPUNIT...\n",
      "Calculating FID given paths ../../data/afhq/images512x512/train/cat/ and ../I2I/comparison/GP-UNIT/face2cat_Waug...\n",
      "Preparing DataLoader for the evaluation phase...\n",
      "Preparing DataLoader for the evaluation phase...\n"
     ]
    },
    {
     "name": "stderr",
     "output_type": "stream",
     "text": [
      "100%|██████████| 104/104 [00:23<00:00,  4.38it/s]\n",
      "100%|██████████| 200/200 [00:30<00:00,  6.50it/s]\n"
     ]
    },
    {
     "name": "stdout",
     "output_type": "stream",
     "text": [
      "FID for face2cat_Waug_GPUNIT is 9.200\n",
      "Calculating FID for all tasks...\n",
      "Calculating FID for dog2bird_GPUNIT...\n",
      "Calculating FID given paths ../../data/linkdataset_for_starganv2/birds/train/ and ../I2I/comparison/GP-UNIT/dog2bird...\n"
     ]
    },
    {
     "name": "stderr",
     "output_type": "stream",
     "text": [
      "  0%|          | 0/48 [00:00<?, ?it/s]"
     ]
    },
    {
     "name": "stdout",
     "output_type": "stream",
     "text": [
      "Preparing DataLoader for the evaluation phase...\n",
      "Preparing DataLoader for the evaluation phase...\n"
     ]
    },
    {
     "name": "stderr",
     "output_type": "stream",
     "text": [
      "100%|██████████| 48/48 [00:06<00:00,  7.31it/s]\n",
      "100%|██████████| 40/40 [00:06<00:00,  6.32it/s]\n"
     ]
    },
    {
     "name": "stdout",
     "output_type": "stream",
     "text": [
      "FID for dog2bird_GPUNIT is 6.223\n",
      "Calculating FID for all tasks...\n",
      "Calculating FID for bird2dog_GPUNIT...\n",
      "Calculating FID given paths ../../data/linkdataset_for_starganv2/dogs/train/ and ../I2I/comparison/GP-UNIT/bird2dog...\n"
     ]
    },
    {
     "name": "stderr",
     "output_type": "stream",
     "text": [
      "  0%|          | 0/48 [00:00<?, ?it/s]"
     ]
    },
    {
     "name": "stdout",
     "output_type": "stream",
     "text": [
      "Preparing DataLoader for the evaluation phase...\n",
      "Preparing DataLoader for the evaluation phase...\n"
     ]
    },
    {
     "name": "stderr",
     "output_type": "stream",
     "text": [
      "100%|██████████| 48/48 [00:06<00:00,  7.30it/s]\n",
      "100%|██████████| 40/40 [00:06<00:00,  6.42it/s]\n"
     ]
    },
    {
     "name": "stdout",
     "output_type": "stream",
     "text": [
      "FID for bird2dog_GPUNIT is 16.347\n",
      "Calculating FID for all tasks...\n",
      "Calculating FID for car2bird_GPUNIT...\n",
      "Calculating FID given paths ../../data/linkdataset_for_starganv2/birds/train/ and ../I2I/comparison/GP-UNIT/car2bird...\n"
     ]
    },
    {
     "name": "stderr",
     "output_type": "stream",
     "text": [
      "  0%|          | 0/48 [00:00<?, ?it/s]"
     ]
    },
    {
     "name": "stdout",
     "output_type": "stream",
     "text": [
      "Preparing DataLoader for the evaluation phase...\n",
      "Preparing DataLoader for the evaluation phase...\n"
     ]
    },
    {
     "name": "stderr",
     "output_type": "stream",
     "text": [
      "100%|██████████| 48/48 [00:05<00:00,  8.25it/s]\n",
      "100%|██████████| 40/40 [00:06<00:00,  6.53it/s]\n"
     ]
    },
    {
     "name": "stdout",
     "output_type": "stream",
     "text": [
      "FID for car2bird_GPUNIT is 6.518\n",
      "Calculating FID for all tasks...\n",
      "Calculating FID for bird2car_GPUNIT...\n",
      "Calculating FID given paths ../../data/linkdataset_for_starganv2/cars/train/ and ../I2I/comparison/GP-UNIT/bird2car...\n"
     ]
    },
    {
     "name": "stderr",
     "output_type": "stream",
     "text": [
      "  0%|          | 0/48 [00:00<?, ?it/s]"
     ]
    },
    {
     "name": "stdout",
     "output_type": "stream",
     "text": [
      "Preparing DataLoader for the evaluation phase...\n",
      "Preparing DataLoader for the evaluation phase...\n"
     ]
    },
    {
     "name": "stderr",
     "output_type": "stream",
     "text": [
      "100%|██████████| 48/48 [00:06<00:00,  7.37it/s]\n",
      "100%|██████████| 40/40 [00:06<00:00,  6.56it/s]\n"
     ]
    },
    {
     "name": "stdout",
     "output_type": "stream",
     "text": [
      "FID for bird2car_GPUNIT is 21.350\n"
     ]
    }
   ],
   "source": [
    "for ii, task in enumerate(tasks):\n",
    "    calculate_fid_for_all_tasks(path_reals[ii], path_fakes, modes, task, save_path='../I2I/result/FID/')"
   ]
  },
  {
   "cell_type": "markdown",
   "metadata": {},
   "source": [
    "# LPIPS"
   ]
  },
  {
   "cell_type": "code",
   "execution_count": 5,
   "metadata": {},
   "outputs": [],
   "source": [
    "tasks = ['male2female_Waug','female2male_Waug','dog2cat_Waug','cat2dog_Waug','cat2face_Waug','face2cat_Waug',\n",
    "         'dog2bird','bird2dog','car2bird','bird2car']\n",
    "path_fakes = ['../I2I/comparison/GP-UNIT/']\n",
    "modes = ['_GPUNIT']"
   ]
  },
  {
   "cell_type": "code",
   "execution_count": 6,
   "metadata": {
    "scrolled": true
   },
   "outputs": [
    {
     "name": "stdout",
     "output_type": "stream",
     "text": [
      "==================================================\n",
      "male2female_Waug\n",
      "Calculating LPIPS for male2female_Waug_GPUNIT...\n",
      "Preparing DataLoader for the evaluation phase...\n"
     ]
    },
    {
     "name": "stderr",
     "output_type": "stream",
     "text": [
      "100%|██████████| 1000/1000 [18:39<00:00,  1.12s/it]\n"
     ]
    },
    {
     "name": "stdout",
     "output_type": "stream",
     "text": [
      "LPIPS for male2female_Waug_GPUNIT is 0.355\n",
      "==================================================\n",
      "female2male_Waug\n",
      "Calculating LPIPS for female2male_Waug_GPUNIT...\n",
      "Preparing DataLoader for the evaluation phase...\n"
     ]
    },
    {
     "name": "stderr",
     "output_type": "stream",
     "text": [
      "100%|██████████| 1000/1000 [18:46<00:00,  1.13s/it]\n",
      "  0%|          | 0/500 [00:00<?, ?it/s]"
     ]
    },
    {
     "name": "stdout",
     "output_type": "stream",
     "text": [
      "LPIPS for female2male_Waug_GPUNIT is 0.393\n",
      "==================================================\n",
      "dog2cat_Waug\n",
      "Calculating LPIPS for dog2cat_Waug_GPUNIT...\n",
      "Preparing DataLoader for the evaluation phase...\n"
     ]
    },
    {
     "name": "stderr",
     "output_type": "stream",
     "text": [
      "100%|██████████| 500/500 [09:26<00:00,  1.13s/it]\n"
     ]
    },
    {
     "name": "stdout",
     "output_type": "stream",
     "text": [
      "LPIPS for dog2cat_Waug_GPUNIT is 0.489\n",
      "==================================================\n",
      "cat2dog_Waug\n",
      "Calculating LPIPS for cat2dog_Waug_GPUNIT...\n",
      "Preparing DataLoader for the evaluation phase...\n"
     ]
    },
    {
     "name": "stderr",
     "output_type": "stream",
     "text": [
      "100%|██████████| 500/500 [09:26<00:00,  1.13s/it]\n",
      "  0%|          | 0/500 [00:00<?, ?it/s]"
     ]
    },
    {
     "name": "stdout",
     "output_type": "stream",
     "text": [
      "LPIPS for cat2dog_Waug_GPUNIT is 0.533\n",
      "==================================================\n",
      "cat2face_Waug\n",
      "Calculating LPIPS for cat2face_Waug_GPUNIT...\n",
      "Preparing DataLoader for the evaluation phase...\n"
     ]
    },
    {
     "name": "stderr",
     "output_type": "stream",
     "text": [
      "100%|██████████| 500/500 [09:31<00:00,  1.14s/it]\n"
     ]
    },
    {
     "name": "stdout",
     "output_type": "stream",
     "text": [
      "LPIPS for cat2face_Waug_GPUNIT is 0.455\n",
      "==================================================\n",
      "face2cat_Waug\n",
      "Calculating LPIPS for face2cat_Waug_GPUNIT...\n",
      "Preparing DataLoader for the evaluation phase...\n"
     ]
    },
    {
     "name": "stderr",
     "output_type": "stream",
     "text": [
      "100%|██████████| 1000/1000 [18:54<00:00,  1.13s/it]\n",
      "  0%|          | 0/200 [00:00<?, ?it/s]"
     ]
    },
    {
     "name": "stdout",
     "output_type": "stream",
     "text": [
      "LPIPS for face2cat_Waug_GPUNIT is 0.521\n",
      "==================================================\n",
      "dog2bird\n",
      "Calculating LPIPS for dog2bird_GPUNIT...\n",
      "Preparing DataLoader for the evaluation phase...\n"
     ]
    },
    {
     "name": "stderr",
     "output_type": "stream",
     "text": [
      "100%|██████████| 200/200 [03:46<00:00,  1.13s/it]\n",
      "  0%|          | 0/200 [00:00<?, ?it/s]"
     ]
    },
    {
     "name": "stdout",
     "output_type": "stream",
     "text": [
      "LPIPS for dog2bird_GPUNIT is 0.625\n",
      "==================================================\n",
      "bird2dog\n",
      "Calculating LPIPS for bird2dog_GPUNIT...\n",
      "Preparing DataLoader for the evaluation phase...\n"
     ]
    },
    {
     "name": "stderr",
     "output_type": "stream",
     "text": [
      "100%|██████████| 200/200 [03:45<00:00,  1.13s/it]\n",
      "  0%|          | 0/200 [00:00<?, ?it/s]"
     ]
    },
    {
     "name": "stdout",
     "output_type": "stream",
     "text": [
      "LPIPS for bird2dog_GPUNIT is 0.580\n",
      "==================================================\n",
      "car2bird\n",
      "Calculating LPIPS for car2bird_GPUNIT...\n",
      "Preparing DataLoader for the evaluation phase...\n"
     ]
    },
    {
     "name": "stderr",
     "output_type": "stream",
     "text": [
      "100%|██████████| 200/200 [03:48<00:00,  1.14s/it]\n",
      "  0%|          | 0/200 [00:00<?, ?it/s]"
     ]
    },
    {
     "name": "stdout",
     "output_type": "stream",
     "text": [
      "LPIPS for car2bird_GPUNIT is 0.627\n",
      "==================================================\n",
      "bird2car\n",
      "Calculating LPIPS for bird2car_GPUNIT...\n",
      "Preparing DataLoader for the evaluation phase...\n"
     ]
    },
    {
     "name": "stderr",
     "output_type": "stream",
     "text": [
      "100%|██████████| 200/200 [03:46<00:00,  1.13s/it]"
     ]
    },
    {
     "name": "stdout",
     "output_type": "stream",
     "text": [
      "LPIPS for bird2car_GPUNIT is 0.587\n"
     ]
    },
    {
     "name": "stderr",
     "output_type": "stream",
     "text": [
      "\n"
     ]
    }
   ],
   "source": [
    "lpips_dict = OrderedDict()\n",
    "save_path='../I2I/result/LPIPS/'\n",
    "for task in tasks:\n",
    "    print('='*50)\n",
    "    print(task)\n",
    "    for ii, path_fake in enumerate(path_fakes):\n",
    "        print('Calculating LPIPS for %s...' % (task+modes[ii]))\n",
    "        # this loader will load 10 images sequentially, i.e. 10 results from the same input image\n",
    "        loader = get_eval_loader(path_fake+task, img_size=256, batch_size=10,\n",
    "                            imagenet_normalize=False, shuffle=False)        \n",
    "        lpips_values = []\n",
    "        for x in tqdm(loader, total=len(loader)):\n",
    "            lpips_value = calculate_lpips_given_images(x.cuda())\n",
    "            lpips_values.append(lpips_value)\n",
    "        lpips_mean = np.array(lpips_values).mean()\n",
    "        lpips_dict['LPIPS_%s' % (task+modes[ii])] = lpips_mean\n",
    "        print('LPIPS for %s is %.3f' % (task+modes[ii], lpips_mean))\n",
    "        \n",
    "    # report LPIPS values\n",
    "    filename = os.path.join(save_path, 'LPIPS_%s.json' % (task))\n",
    "    utils.save_json(lpips_dict, filename)"
   ]
  }
 ],
 "metadata": {
  "kernelspec": {
   "display_name": "imaginaire",
   "language": "python",
   "name": "imaginaire"
  },
  "language_info": {
   "codemirror_mode": {
    "name": "ipython",
    "version": 3
   },
   "file_extension": ".py",
   "mimetype": "text/x-python",
   "name": "python",
   "nbconvert_exporter": "python",
   "pygments_lexer": "ipython3",
   "version": "3.8.3"
  }
 },
 "nbformat": 4,
 "nbformat_minor": 4
}
